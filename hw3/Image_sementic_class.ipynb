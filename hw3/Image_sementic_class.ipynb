{
 "cells": [
  {
   "cell_type": "code",
   "execution_count": 25,
   "metadata": {},
   "outputs": [],
   "source": [
    "import numpy as np\n",
    "from keras.models import Sequential\n",
    "from keras.layers import Dense,Dropout,Flatten,Conv2D,MaxPooling2D\n",
    "from keras.utils import to_categorical\n",
    "import csv\n",
    "\n",
    "def load_data(x_path, mode = 'train'):\n",
    "    with open(x_path, 'r') as f:\n",
    "        csv_f = csv.reader(f)\n",
    "        X, Y = [], []\n",
    "        for row in csv_f:\n",
    "            row[1] = row[1].split()\n",
    "            Y.append(row[0])\n",
    "            X.append(row[1])\n",
    "        del X[0], Y[0]\n",
    "        X = np.array(X)\n",
    "        Y = np.array(Y)\n",
    "        \n",
    "        X = X.astype(np.float)\n",
    "        Y = Y.astype(np.int)\n",
    "        X = X.reshape((X.shape[0], 48, 48, 1))\n",
    "        X = X / 255 # normalize\n",
    "        Y = Y.reshape((Y.shape[0]))\n",
    "        if mode == 'train':\n",
    "            Y = to_categorical(Y, 7)\n",
    "    return X, Y"
   ]
  },
  {
   "cell_type": "code",
   "execution_count": 26,
   "metadata": {},
   "outputs": [],
   "source": [
    "x_train, y_train = load_data('data/train.csv', mode = 'train')\n",
    "x_test, _ = load_data('data/test.csv', mode = 'test')"
   ]
  },
  {
   "cell_type": "code",
   "execution_count": 66,
   "metadata": {},
   "outputs": [],
   "source": [
    "def build_model(dropout_rate):\n",
    "    model = Sequential()\n",
    "    # Create CN layer 1  \n",
    "    model.add(Conv2D(filters=16,\n",
    "                     kernel_size=(6,6),\n",
    "                     padding='same',\n",
    "                     input_shape=(48,48,1),\n",
    "                     activation='relu'))\n",
    "    # Create Max-Pool 1  \n",
    "    model.add(MaxPooling2D(pool_size=(2,2)))\n",
    "\n",
    "    # Create CN layer 2  \n",
    "    model.add(Conv2D(filters=32,\n",
    "                     kernel_size=(3,3),\n",
    "                     padding='same',\n",
    "                     activation='relu'))\n",
    "\n",
    "    # Create Max-Pool 2  \n",
    "    model.add(MaxPooling2D(pool_size=(2,2)))\n",
    "\n",
    "    # Add Dropout layer  \n",
    "    model.add(Dropout(dropout_rate))\n",
    "    \n",
    "    model.add(Flatten())\n",
    "    model.add(Dense(128, activation='relu'))\n",
    "    model.add(Dropout(dropout_rate))\n",
    "    model.add(Dense(64, activation='relu'))\n",
    "    model.add(Dropout(dropout_rate))\n",
    "    model.add(Dense(7, activation='softmax'))\n",
    "    model.summary()\n",
    "    print(\"\")\n",
    "    return model"
   ]
  },
  {
   "cell_type": "code",
   "execution_count": 67,
   "metadata": {},
   "outputs": [],
   "source": [
    "def train(model, x_train, y_train, batch_size, epochs, validation_split):\n",
    "    # 定義訓練方式  \n",
    "    model.compile(loss='categorical_crossentropy', optimizer='adam', metrics=['accuracy'])  \n",
    "\n",
    "    # 開始訓練  \n",
    "    train_history = model.fit(x=x_train,  \n",
    "                              y=y_train, validation_split=validation_split,  \n",
    "                              epochs=epochs, batch_size=batch_size, verbose=1)"
   ]
  },
  {
   "cell_type": "code",
   "execution_count": 68,
   "metadata": {
    "scrolled": true
   },
   "outputs": [
    {
     "name": "stdout",
     "output_type": "stream",
     "text": [
      "_________________________________________________________________\n",
      "Layer (type)                 Output Shape              Param #   \n",
      "=================================================================\n",
      "conv2d_19 (Conv2D)           (None, 48, 48, 16)        592       \n",
      "_________________________________________________________________\n",
      "max_pooling2d_19 (MaxPooling (None, 24, 24, 16)        0         \n",
      "_________________________________________________________________\n",
      "conv2d_20 (Conv2D)           (None, 24, 24, 32)        4640      \n",
      "_________________________________________________________________\n",
      "max_pooling2d_20 (MaxPooling (None, 12, 12, 32)        0         \n",
      "_________________________________________________________________\n",
      "dropout_27 (Dropout)         (None, 12, 12, 32)        0         \n",
      "_________________________________________________________________\n",
      "flatten_10 (Flatten)         (None, 4608)              0         \n",
      "_________________________________________________________________\n",
      "dense_27 (Dense)             (None, 128)               589952    \n",
      "_________________________________________________________________\n",
      "dropout_28 (Dropout)         (None, 128)               0         \n",
      "_________________________________________________________________\n",
      "dense_28 (Dense)             (None, 64)                8256      \n",
      "_________________________________________________________________\n",
      "dropout_29 (Dropout)         (None, 64)                0         \n",
      "_________________________________________________________________\n",
      "dense_29 (Dense)             (None, 7)                 455       \n",
      "=================================================================\n",
      "Total params: 603,895\n",
      "Trainable params: 603,895\n",
      "Non-trainable params: 0\n",
      "_________________________________________________________________\n",
      "\n"
     ]
    }
   ],
   "source": [
    "model = build_model(dropout_rate = 0.5)"
   ]
  },
  {
   "cell_type": "code",
   "execution_count": 70,
   "metadata": {
    "scrolled": false
   },
   "outputs": [
    {
     "name": "stdout",
     "output_type": "stream",
     "text": [
      "Train on 20096 samples, validate on 8613 samples\n",
      "Epoch 1/20\n",
      "20096/20096 [==============================] - 53s 3ms/step - loss: 1.8603 - acc: 0.2214 - val_loss: 1.7877 - val_acc: 0.2543\n",
      "Epoch 2/20\n",
      "20096/20096 [==============================] - 52s 3ms/step - loss: 1.7913 - acc: 0.2633 - val_loss: 1.6958 - val_acc: 0.3458\n",
      "Epoch 3/20\n",
      "20096/20096 [==============================] - 56s 3ms/step - loss: 1.7163 - acc: 0.3094 - val_loss: 1.6141 - val_acc: 0.3822\n",
      "Epoch 4/20\n",
      "20096/20096 [==============================] - 58s 3ms/step - loss: 1.6637 - acc: 0.3414 - val_loss: 1.5682 - val_acc: 0.4100\n",
      "Epoch 5/20\n",
      "20096/20096 [==============================] - 55s 3ms/step - loss: 1.6196 - acc: 0.3647 - val_loss: 1.5269 - val_acc: 0.4101\n",
      "Epoch 6/20\n",
      "20096/20096 [==============================] - 52s 3ms/step - loss: 1.5863 - acc: 0.3828 - val_loss: 1.4915 - val_acc: 0.4298\n",
      "Epoch 7/20\n",
      "20096/20096 [==============================] - 56s 3ms/step - loss: 1.5605 - acc: 0.3958 - val_loss: 1.4615 - val_acc: 0.4367\n",
      "Epoch 8/20\n",
      "20096/20096 [==============================] - 52s 3ms/step - loss: 1.5339 - acc: 0.4032 - val_loss: 1.4399 - val_acc: 0.4455\n",
      "Epoch 9/20\n",
      "20096/20096 [==============================] - 53s 3ms/step - loss: 1.5174 - acc: 0.4122 - val_loss: 1.4473 - val_acc: 0.4559\n",
      "Epoch 10/20\n",
      "20096/20096 [==============================] - 55s 3ms/step - loss: 1.4960 - acc: 0.4201 - val_loss: 1.4141 - val_acc: 0.4653\n",
      "Epoch 11/20\n",
      "20096/20096 [==============================] - 49s 2ms/step - loss: 1.4730 - acc: 0.4340 - val_loss: 1.4070 - val_acc: 0.4724\n",
      "Epoch 12/20\n",
      "20096/20096 [==============================] - 53s 3ms/step - loss: 1.4573 - acc: 0.4372 - val_loss: 1.3875 - val_acc: 0.4837\n",
      "Epoch 13/20\n",
      "20096/20096 [==============================] - 50s 2ms/step - loss: 1.4387 - acc: 0.4493 - val_loss: 1.3631 - val_acc: 0.4914\n",
      "Epoch 14/20\n",
      "20096/20096 [==============================] - 50s 2ms/step - loss: 1.4353 - acc: 0.4507 - val_loss: 1.3726 - val_acc: 0.4887\n",
      "Epoch 15/20\n",
      "20096/20096 [==============================] - 60s 3ms/step - loss: 1.4195 - acc: 0.4583 - val_loss: 1.3491 - val_acc: 0.4949\n",
      "Epoch 16/20\n",
      "20096/20096 [==============================] - 51s 3ms/step - loss: 1.3977 - acc: 0.4683 - val_loss: 1.3436 - val_acc: 0.5005\n",
      "Epoch 17/20\n",
      "20096/20096 [==============================] - 53s 3ms/step - loss: 1.3823 - acc: 0.4748 - val_loss: 1.3248 - val_acc: 0.5062\n",
      "Epoch 18/20\n",
      "20096/20096 [==============================] - 56s 3ms/step - loss: 1.3767 - acc: 0.4787 - val_loss: 1.3308 - val_acc: 0.5030\n",
      "Epoch 19/20\n",
      "20096/20096 [==============================] - 51s 3ms/step - loss: 1.3692 - acc: 0.4795 - val_loss: 1.3142 - val_acc: 0.5081\n",
      "Epoch 20/20\n",
      "20096/20096 [==============================] - 47s 2ms/step - loss: 1.3515 - acc: 0.4889 - val_loss: 1.3082 - val_acc: 0.5045\n"
     ]
    }
   ],
   "source": [
    "train(model, x_train, y_train, 512, 20, 0.3)"
   ]
  },
  {
   "cell_type": "code",
   "execution_count": null,
   "metadata": {},
   "outputs": [],
   "source": []
  }
 ],
 "metadata": {
  "kernelspec": {
   "display_name": "Python 3",
   "language": "python",
   "name": "python3"
  },
  "language_info": {
   "codemirror_mode": {
    "name": "ipython",
    "version": 3
   },
   "file_extension": ".py",
   "mimetype": "text/x-python",
   "name": "python",
   "nbconvert_exporter": "python",
   "pygments_lexer": "ipython3",
   "version": "3.6.4"
  }
 },
 "nbformat": 4,
 "nbformat_minor": 2
}
